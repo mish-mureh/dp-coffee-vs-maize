{
 "cells": [
  {
   "cell_type": "markdown",
   "id": "98d71c72-3054-438d-9c1a-52e65aa9c26b",
   "metadata": {},
   "source": [
    "# __Comparative Analysis of Maize and Coffee: Profitability and Market Trends in Kenya(2017-2022)__"
   ]
  },
  {
   "cell_type": "markdown",
   "id": "cb56d7dd-adab-43af-84bc-e3603d331276",
   "metadata": {},
   "source": [
    "## Introduction \n",
    "Coffee and maize are well known crops in Kenya. This notebook presents a comparative analysis of the productivity and profitability of maize and coffee using the provided data. This will involve analyzing various metrics like price indices, gross value, and sales volumes over the years 2018-2022.\n",
    "I will identify which crop delivers higher value to farmers and the national economy.\n",
    "I'll structure this project to answer several key research questions which I will formulate based on the data provided by [KENYA NATIONAL BUREAU OF STATISTICS (KNBS)](https://www.knbs.or.ke/portals/)\n"
   ]
  },
  {
   "cell_type": "markdown",
   "id": "a8734550-a0ef-4ab0-b153-63f6d62858dc",
   "metadata": {},
   "source": [
    "## 1. Business Understanding\n",
    "Kenya's agricultural sector is the backbone of its economy, and maize and coffee play distinct but vital roles.\n",
    "\n",
    "* __Maize__\n",
    "\n",
    "\n",
    "It serves as the pillar of national food security and rural livelihoods. It is the country's most important staple food, providing roughly a third of the caloric intake for the population, and is grown by an estimated 98% of Kenya's 3.5 million smallholder farmers. The maize value chain directly and indirectly supports over 6 million Kenyans. However, the sector faces significant challenges, including low yields, high post-harvest losses, and an over-reliance on rainfed agriculture, which makes it vulnerable to climate shocks.   \n",
    "\n",
    "* __Coffee__\n",
    "  \n",
    "It is a strategic export commodity and a key driver of foreign exchange. Kenya is globally recognized for its high-quality Arabica beans, which command a premium in the international market . The sector employs about 30% of the agricultural labor force and provides a livelihood for more than 800,000 rural households. While coffee contributes to a smaller portion of total agricultural value than other crops, it is a crucial earner of foreign currency, generating around $200 million annually . The industry's long-term production has declined, and it is highly susceptible to global market volatility and recent, disruptive government policy changes .   \n",
    "\n",
    "\n",
    "\n",
    "### Research Questions\n",
    "* What is the total marketed value for maize and coffee(KSh Million)?\n",
    "* What is the average farm-gate prices and retail market prices for maize and coffee, and evaluate profitability margins?\n",
    "* What is he relationship between total estimated production and sales to marketing boards for both crops, showing the share of production entering markets?\n",
    "* Which of the two crops, maize or coffee, demonstrates stronger profitability and market resilience based on combined indicators?\n",
    "\n",
    "\n",
    "### Objectives\n",
    "* To find out and compare the total marketed value for maize and coffee(KSh Million)\n",
    "* To find out and compare the average farm-gate prices and retail market prices for maize and coffee, and evaluate profitability margins.\n",
    "* To find out the relationship between total estimated production and sales to marketing boards for both crops, showing the share of production entering markets\n",
    "* To find out which crop demonstrates stronger profitability and market resilience based on combined indicators"
   ]
  },
  {
   "cell_type": "markdown",
   "id": "955c1568-4412-4170-bf36-724d928de962",
   "metadata": {},
   "source": [
    "## 2. Data Understanding\n",
    "\n",
    "In this notebook, i will be working with different columns inorder find answers to the research questions stated above.\n",
    "We'll be working with the following columns-:```indices```, ```indicator```, ```agri-products```, ```type-of-grower```, ```type-of-indicator```, ```Unit```, ```Date```, ```Value```\n",
    "\n",
    "*  'indicator',\n",
    "     - __Sale of selected crops to marketing boards ```(000 tonnes)```__\n",
    "       \n",
    "           *  This number tells us the total volume of crops sold to a specific group of buyers (marketing boards). This helps us understand how much of the harvest was sold through these official channels.                   \n",
    "     - __Recorded Marketed Agricultural Production at Current Prices ```(KSh Million)```__\n",
    "       \n",
    "           *  It's the total amount of money, in millions of Kenyan Shillings, that farmers got for selling their maize and coffee each year. This is the number you'll use to talk about total \"revenue\" or \"profitability\" in your report.\n",
    "     - __Average gross commodity to farmers ```(KSh/100kg)```__\n",
    "       \n",
    "           *  This is a very specific number. It's the price a farmer received for a single bag or kilogram of their crop. This helps us see if the price farmers were getting was going up or down. Think of this as the \"price per item\" for the farmer.   \n",
    "     - __Average retail market prices of selected food crops ```(KSh per kg, half-year)```__\n",
    "       \n",
    "           *  This is the price that people, the consumers, paid for the crops in the shops and markets. This is a different number than what the farmer got, and the difference is where the \"value chain\" comes in.  \n",
    "     - __Estimated production of selected agricultural commodities ```(Million bags)```__\n",
    "       \n",
    "           *  This is the total volume of the crop that was actually harvested. It is different from the volume sold. This is an important distinction to see if farmers are selling everything they grow or if there are losses.\n",
    "\n",
    "*  'agri-products',\n",
    "\n",
    "    -  ```maize```\n",
    "    -  ```coffee```\n",
    "\n",
    "*  'type-of-grower',\n",
    "    - Co operatives\n",
    "    - Estates\n",
    "    - Non-contracted farmers\n",
    "    - Total\n",
    "\n",
    "*  'type-of-indicator',\n",
    "    - Value\n",
    "    - Volume\n",
    "\n",
    "*  'Unit',\n",
    "*  'Date',\n",
    "*  'Value'\n",
    "\n"
   ]
  },
  {
   "cell_type": "markdown",
   "id": "f4ad3343-ea3a-45ee-9178-c95b38c37998",
   "metadata": {},
   "source": [
    "## 3.Load the Dataset with Pandas\n",
    "Import the following -:\n",
    "\n",
    "* pandas with the standard alias pd\n",
    "* numpy with the standard alias np\n",
    "* seaborn with the standard alias sns\n",
    "* matplotlib.pyplot with the standard alias plt\n",
    "* set %matplotlib inline so the graphs will display immediately below the cell that creates them."
   ]
  },
  {
   "cell_type": "code",
   "execution_count": 1,
   "id": "6f601e26-d03d-4f1c-b640-49a377520543",
   "metadata": {},
   "outputs": [],
   "source": [
    "import pandas as pd\n",
    "import numpy as np\n",
    "import seaborn as sns\n",
    "import matplotlib.pyplot as plt\n",
    "%matplotlib inline"
   ]
  },
  {
   "cell_type": "markdown",
   "id": "104d541d-8f06-4333-9ed4-50d5e12312df",
   "metadata": {},
   "source": [
    "## 4. Data Exploration\n",
    "load the datasets"
   ]
  },
  {
   "cell_type": "code",
   "execution_count": 3,
   "id": "8248a2ee-6f51-4ceb-b83f-97174a66d553",
   "metadata": {},
   "outputs": [
    {
     "data": {
      "text/html": [
       "<div>\n",
       "<style scoped>\n",
       "    .dataframe tbody tr th:only-of-type {\n",
       "        vertical-align: middle;\n",
       "    }\n",
       "\n",
       "    .dataframe tbody tr th {\n",
       "        vertical-align: top;\n",
       "    }\n",
       "\n",
       "    .dataframe thead th {\n",
       "        text-align: right;\n",
       "    }\n",
       "</style>\n",
       "<table border=\"1\" class=\"dataframe\">\n",
       "  <thead>\n",
       "    <tr style=\"text-align: right;\">\n",
       "      <th></th>\n",
       "      <th>indices</th>\n",
       "      <th>indicator</th>\n",
       "      <th>agri-products</th>\n",
       "      <th>type-of-grower</th>\n",
       "      <th>type-of-indicator</th>\n",
       "      <th>Unit</th>\n",
       "      <th>Date</th>\n",
       "      <th>Value</th>\n",
       "    </tr>\n",
       "  </thead>\n",
       "  <tbody>\n",
       "    <tr>\n",
       "      <th>0</th>\n",
       "      <td>Price indices total</td>\n",
       "      <td>Quantum and Price Indices of Recorded Sales of...</td>\n",
       "      <td>CEREALS-</td>\n",
       "      <td>Total</td>\n",
       "      <td>Index</td>\n",
       "      <td>Base=100</td>\n",
       "      <td>2018</td>\n",
       "      <td>100.0</td>\n",
       "    </tr>\n",
       "    <tr>\n",
       "      <th>1</th>\n",
       "      <td>Price indices total</td>\n",
       "      <td>Quantum and Price Indices of Recorded Sales of...</td>\n",
       "      <td>CEREALS-</td>\n",
       "      <td>Total</td>\n",
       "      <td>Index</td>\n",
       "      <td>Base=100</td>\n",
       "      <td>2019</td>\n",
       "      <td>118.9</td>\n",
       "    </tr>\n",
       "    <tr>\n",
       "      <th>2</th>\n",
       "      <td>Price indices total</td>\n",
       "      <td>Quantum and Price Indices of Recorded Sales of...</td>\n",
       "      <td>CEREALS-</td>\n",
       "      <td>Total</td>\n",
       "      <td>Index</td>\n",
       "      <td>Base=100</td>\n",
       "      <td>2020</td>\n",
       "      <td>113.6</td>\n",
       "    </tr>\n",
       "    <tr>\n",
       "      <th>3</th>\n",
       "      <td>Price indices total</td>\n",
       "      <td>Quantum and Price Indices of Recorded Sales of...</td>\n",
       "      <td>CEREALS-</td>\n",
       "      <td>Total</td>\n",
       "      <td>Index</td>\n",
       "      <td>Base=100</td>\n",
       "      <td>2021</td>\n",
       "      <td>123.8</td>\n",
       "    </tr>\n",
       "    <tr>\n",
       "      <th>4</th>\n",
       "      <td>Price indices total</td>\n",
       "      <td>Quantum and Price Indices of Recorded Sales of...</td>\n",
       "      <td>CEREALS-</td>\n",
       "      <td>Total</td>\n",
       "      <td>Index</td>\n",
       "      <td>Base=100</td>\n",
       "      <td>2022</td>\n",
       "      <td>166.5</td>\n",
       "    </tr>\n",
       "  </tbody>\n",
       "</table>\n",
       "</div>"
      ],
      "text/plain": [
       "               indices                                          indicator  \\\n",
       "0  Price indices total  Quantum and Price Indices of Recorded Sales of...   \n",
       "1  Price indices total  Quantum and Price Indices of Recorded Sales of...   \n",
       "2  Price indices total  Quantum and Price Indices of Recorded Sales of...   \n",
       "3  Price indices total  Quantum and Price Indices of Recorded Sales of...   \n",
       "4  Price indices total  Quantum and Price Indices of Recorded Sales of...   \n",
       "\n",
       "  agri-products type-of-grower type-of-indicator      Unit  Date  Value  \n",
       "0      CEREALS-          Total             Index  Base=100  2018  100.0  \n",
       "1      CEREALS-          Total             Index  Base=100  2019  118.9  \n",
       "2      CEREALS-          Total             Index  Base=100  2020  113.6  \n",
       "3      CEREALS-          Total             Index  Base=100  2021  123.8  \n",
       "4      CEREALS-          Total             Index  Base=100  2022  166.5  "
      ]
     },
     "execution_count": 3,
     "metadata": {},
     "output_type": "execute_result"
    }
   ],
   "source": [
    "# This is the full dataset\n",
    "df_full = pd.read_csv(\"data/full_dataset_2018_2022.csv\")\n",
    "df_full.head()"
   ]
  },
  {
   "cell_type": "code",
   "execution_count": 3,
   "id": "4f8d683b-3b99-4a21-82a7-d1e5d3e63aa5",
   "metadata": {},
   "outputs": [
    {
     "name": "stdout",
     "output_type": "stream",
     "text": [
      "<class 'pandas.core.frame.DataFrame'>\n",
      "RangeIndex: 674 entries, 0 to 673\n",
      "Data columns (total 8 columns):\n",
      " #   Column             Non-Null Count  Dtype  \n",
      "---  ------             --------------  -----  \n",
      " 0   indices            674 non-null    object \n",
      " 1   indicator          674 non-null    object \n",
      " 2   agri-products      674 non-null    object \n",
      " 3   type-of-grower     674 non-null    object \n",
      " 4   type-of-indicator  674 non-null    object \n",
      " 5   Unit               674 non-null    object \n",
      " 6   Date               674 non-null    object \n",
      " 7   Value              674 non-null    float64\n",
      "dtypes: float64(1), object(7)\n",
      "memory usage: 42.3+ KB\n"
     ]
    }
   ],
   "source": [
    "df_full.info()"
   ]
  },
  {
   "cell_type": "code",
   "execution_count": 4,
   "id": "0fddc8d2-ec3e-4e48-8aba-a02450108a4a",
   "metadata": {},
   "outputs": [],
   "source": [
    "# check that it is a dataframe\n",
    "assert type(df_full) == pd.DataFrame"
   ]
  },
  {
   "cell_type": "markdown",
   "id": "c733c0dd-df87-4357-8c93-643acc534122",
   "metadata": {},
   "source": [
    "I have loaded the full dataset and this is confirmed by the ```agri-products``` column which contains all the crops.\n",
    "In this notebook i want to compare two crops, ```Coffee``` and ```Maize```.\n",
    "Specify the crops to filter for.\n"
   ]
  },
  {
   "cell_type": "code",
   "execution_count": 5,
   "id": "ecc4bc93-75e2-4938-b011-78e0295a8eb8",
   "metadata": {},
   "outputs": [],
   "source": [
    "# Let's specify the crops you want to filter for.\n",
    "\n",
    "target_crops = ['Maize', 'Coffee']"
   ]
  },
  {
   "cell_type": "markdown",
   "id": "9d665931-92d1-4146-8791-dcddd7416820",
   "metadata": {},
   "source": [
    "Subset to get a dataframe that only contains coffee and maize"
   ]
  },
  {
   "cell_type": "code",
   "execution_count": 6,
   "id": "7ebe31dd-1ba1-4707-a621-f4bb77f6ecdb",
   "metadata": {},
   "outputs": [
    {
     "data": {
      "text/html": [
       "<div>\n",
       "<style scoped>\n",
       "    .dataframe tbody tr th:only-of-type {\n",
       "        vertical-align: middle;\n",
       "    }\n",
       "\n",
       "    .dataframe tbody tr th {\n",
       "        vertical-align: top;\n",
       "    }\n",
       "\n",
       "    .dataframe thead th {\n",
       "        text-align: right;\n",
       "    }\n",
       "</style>\n",
       "<table border=\"1\" class=\"dataframe\">\n",
       "  <thead>\n",
       "    <tr style=\"text-align: right;\">\n",
       "      <th></th>\n",
       "      <th>indices</th>\n",
       "      <th>indicator</th>\n",
       "      <th>agri-products</th>\n",
       "      <th>type-of-grower</th>\n",
       "      <th>type-of-indicator</th>\n",
       "      <th>Unit</th>\n",
       "      <th>Date</th>\n",
       "      <th>Value</th>\n",
       "    </tr>\n",
       "  </thead>\n",
       "  <tbody>\n",
       "    <tr>\n",
       "      <th>70</th>\n",
       "      <td>Indices total</td>\n",
       "      <td>Recorded Marketed Agricultural Production at C...</td>\n",
       "      <td>Maize</td>\n",
       "      <td>Total</td>\n",
       "      <td>Value</td>\n",
       "      <td>KSh Million</td>\n",
       "      <td>2018</td>\n",
       "      <td>9986.9</td>\n",
       "    </tr>\n",
       "    <tr>\n",
       "      <th>71</th>\n",
       "      <td>Indices total</td>\n",
       "      <td>Recorded Marketed Agricultural Production at C...</td>\n",
       "      <td>Maize</td>\n",
       "      <td>Total</td>\n",
       "      <td>Value</td>\n",
       "      <td>KSh Million</td>\n",
       "      <td>2019</td>\n",
       "      <td>10681.2</td>\n",
       "    </tr>\n",
       "    <tr>\n",
       "      <th>72</th>\n",
       "      <td>Indices total</td>\n",
       "      <td>Recorded Marketed Agricultural Production at C...</td>\n",
       "      <td>Maize</td>\n",
       "      <td>Total</td>\n",
       "      <td>Value</td>\n",
       "      <td>KSh Million</td>\n",
       "      <td>2020</td>\n",
       "      <td>8232.5</td>\n",
       "    </tr>\n",
       "    <tr>\n",
       "      <th>73</th>\n",
       "      <td>Indices total</td>\n",
       "      <td>Recorded Marketed Agricultural Production at C...</td>\n",
       "      <td>Maize</td>\n",
       "      <td>Total</td>\n",
       "      <td>Value</td>\n",
       "      <td>KSh Million</td>\n",
       "      <td>2021</td>\n",
       "      <td>6858.1</td>\n",
       "    </tr>\n",
       "    <tr>\n",
       "      <th>74</th>\n",
       "      <td>Indices total</td>\n",
       "      <td>Recorded Marketed Agricultural Production at C...</td>\n",
       "      <td>Maize</td>\n",
       "      <td>Total</td>\n",
       "      <td>Value</td>\n",
       "      <td>KSh Million</td>\n",
       "      <td>2022</td>\n",
       "      <td>5938.4</td>\n",
       "    </tr>\n",
       "  </tbody>\n",
       "</table>\n",
       "</div>"
      ],
      "text/plain": [
       "          indices                                          indicator  \\\n",
       "70  Indices total  Recorded Marketed Agricultural Production at C...   \n",
       "71  Indices total  Recorded Marketed Agricultural Production at C...   \n",
       "72  Indices total  Recorded Marketed Agricultural Production at C...   \n",
       "73  Indices total  Recorded Marketed Agricultural Production at C...   \n",
       "74  Indices total  Recorded Marketed Agricultural Production at C...   \n",
       "\n",
       "   agri-products type-of-grower type-of-indicator         Unit  Date    Value  \n",
       "70         Maize          Total             Value  KSh Million  2018   9986.9  \n",
       "71         Maize          Total             Value  KSh Million  2019  10681.2  \n",
       "72         Maize          Total             Value  KSh Million  2020   8232.5  \n",
       "73         Maize          Total             Value  KSh Million  2021   6858.1  \n",
       "74         Maize          Total             Value  KSh Million  2022   5938.4  "
      ]
     },
     "execution_count": 6,
     "metadata": {},
     "output_type": "execute_result"
    }
   ],
   "source": [
    "# Filter the DataFrame to show only the crops in the target crops.\n",
    "df = df_full[df_full[\"agri-products\"].isin(target_crops)]\n",
    "df.head()"
   ]
  },
  {
   "cell_type": "markdown",
   "id": "b66bc72d-34a0-471c-8084-be7bb5fe7bc5",
   "metadata": {},
   "source": [
    "## 5. Data Preparation"
   ]
  },
  {
   "cell_type": "code",
   "execution_count": 7,
   "id": "4b9c0cd0-2854-4318-96e7-07362a101cee",
   "metadata": {},
   "outputs": [
    {
     "name": "stdout",
     "output_type": "stream",
     "text": [
      "<class 'pandas.core.frame.DataFrame'>\n",
      "Index: 48 entries, 70 to 409\n",
      "Data columns (total 8 columns):\n",
      " #   Column             Non-Null Count  Dtype  \n",
      "---  ------             --------------  -----  \n",
      " 0   indices            48 non-null     object \n",
      " 1   indicator          48 non-null     object \n",
      " 2   agri-products      48 non-null     object \n",
      " 3   type-of-grower     48 non-null     object \n",
      " 4   type-of-indicator  48 non-null     object \n",
      " 5   Unit               48 non-null     object \n",
      " 6   Date               48 non-null     object \n",
      " 7   Value              48 non-null     float64\n",
      "dtypes: float64(1), object(7)\n",
      "memory usage: 3.4+ KB\n"
     ]
    }
   ],
   "source": [
    "df.info()"
   ]
  },
  {
   "cell_type": "code",
   "execution_count": null,
   "id": "d7e4a500-fda9-463c-81e2-603d40561889",
   "metadata": {},
   "outputs": [],
   "source": [
    "\"\"\"\n",
    "It is a dataframe\n",
    "It has 48 rows and 8 columns\n",
    "the d-types are float and object\n",
    "\"\"\""
   ]
  },
  {
   "cell_type": "code",
   "execution_count": 8,
   "id": "1261ad99-183d-4785-ae92-486a22995585",
   "metadata": {},
   "outputs": [
    {
     "data": {
      "text/plain": [
       "indices              0\n",
       "indicator            0\n",
       "agri-products        0\n",
       "type-of-grower       0\n",
       "type-of-indicator    0\n",
       "Unit                 0\n",
       "Date                 0\n",
       "Value                0\n",
       "dtype: int64"
      ]
     },
     "execution_count": 8,
     "metadata": {},
     "output_type": "execute_result"
    }
   ],
   "source": [
    "# check for missing values\n",
    "df.isnull().sum()"
   ]
  },
  {
   "cell_type": "code",
   "execution_count": 9,
   "id": "e48644c4-87b5-41dc-8a19-1351a70ad5d8",
   "metadata": {},
   "outputs": [
    {
     "data": {
      "text/html": [
       "<div>\n",
       "<style scoped>\n",
       "    .dataframe tbody tr th:only-of-type {\n",
       "        vertical-align: middle;\n",
       "    }\n",
       "\n",
       "    .dataframe tbody tr th {\n",
       "        vertical-align: top;\n",
       "    }\n",
       "\n",
       "    .dataframe thead th {\n",
       "        text-align: right;\n",
       "    }\n",
       "</style>\n",
       "<table border=\"1\" class=\"dataframe\">\n",
       "  <thead>\n",
       "    <tr style=\"text-align: right;\">\n",
       "      <th></th>\n",
       "      <th>indices</th>\n",
       "      <th>indicator</th>\n",
       "      <th>agri-products</th>\n",
       "      <th>type-of-grower</th>\n",
       "      <th>type-of-indicator</th>\n",
       "      <th>Unit</th>\n",
       "      <th>Date</th>\n",
       "      <th>Value</th>\n",
       "    </tr>\n",
       "  </thead>\n",
       "  <tbody>\n",
       "    <tr>\n",
       "      <th>70</th>\n",
       "      <td>Indices total</td>\n",
       "      <td>Recorded Marketed Agricultural Production at C...</td>\n",
       "      <td>Maize</td>\n",
       "      <td>Total</td>\n",
       "      <td>Value</td>\n",
       "      <td>KSh Million</td>\n",
       "      <td>2018</td>\n",
       "      <td>9986.9</td>\n",
       "    </tr>\n",
       "    <tr>\n",
       "      <th>71</th>\n",
       "      <td>Indices total</td>\n",
       "      <td>Recorded Marketed Agricultural Production at C...</td>\n",
       "      <td>Maize</td>\n",
       "      <td>Total</td>\n",
       "      <td>Value</td>\n",
       "      <td>KSh Million</td>\n",
       "      <td>2019</td>\n",
       "      <td>10681.2</td>\n",
       "    </tr>\n",
       "    <tr>\n",
       "      <th>72</th>\n",
       "      <td>Indices total</td>\n",
       "      <td>Recorded Marketed Agricultural Production at C...</td>\n",
       "      <td>Maize</td>\n",
       "      <td>Total</td>\n",
       "      <td>Value</td>\n",
       "      <td>KSh Million</td>\n",
       "      <td>2020</td>\n",
       "      <td>8232.5</td>\n",
       "    </tr>\n",
       "    <tr>\n",
       "      <th>73</th>\n",
       "      <td>Indices total</td>\n",
       "      <td>Recorded Marketed Agricultural Production at C...</td>\n",
       "      <td>Maize</td>\n",
       "      <td>Total</td>\n",
       "      <td>Value</td>\n",
       "      <td>KSh Million</td>\n",
       "      <td>2021</td>\n",
       "      <td>6858.1</td>\n",
       "    </tr>\n",
       "    <tr>\n",
       "      <th>74</th>\n",
       "      <td>Indices total</td>\n",
       "      <td>Recorded Marketed Agricultural Production at C...</td>\n",
       "      <td>Maize</td>\n",
       "      <td>Total</td>\n",
       "      <td>Value</td>\n",
       "      <td>KSh Million</td>\n",
       "      <td>2022</td>\n",
       "      <td>5938.4</td>\n",
       "    </tr>\n",
       "  </tbody>\n",
       "</table>\n",
       "</div>"
      ],
      "text/plain": [
       "          indices                                          indicator  \\\n",
       "70  Indices total  Recorded Marketed Agricultural Production at C...   \n",
       "71  Indices total  Recorded Marketed Agricultural Production at C...   \n",
       "72  Indices total  Recorded Marketed Agricultural Production at C...   \n",
       "73  Indices total  Recorded Marketed Agricultural Production at C...   \n",
       "74  Indices total  Recorded Marketed Agricultural Production at C...   \n",
       "\n",
       "   agri-products type-of-grower type-of-indicator         Unit  Date    Value  \n",
       "70         Maize          Total             Value  KSh Million  2018   9986.9  \n",
       "71         Maize          Total             Value  KSh Million  2019  10681.2  \n",
       "72         Maize          Total             Value  KSh Million  2020   8232.5  \n",
       "73         Maize          Total             Value  KSh Million  2021   6858.1  \n",
       "74         Maize          Total             Value  KSh Million  2022   5938.4  "
      ]
     },
     "execution_count": 9,
     "metadata": {},
     "output_type": "execute_result"
    }
   ],
   "source": [
    "df.head()"
   ]
  },
  {
   "cell_type": "code",
   "execution_count": 10,
   "id": "ec1b50b7-5e4a-4723-a886-9946dae06cd6",
   "metadata": {},
   "outputs": [],
   "source": [
    "# reset the dataframes index\n",
    "df = df.reset_index()"
   ]
  },
  {
   "cell_type": "code",
   "execution_count": 11,
   "id": "fe728c7f-262e-4cf8-aaf1-930da11e0d6c",
   "metadata": {},
   "outputs": [
    {
     "data": {
      "text/html": [
       "<div>\n",
       "<style scoped>\n",
       "    .dataframe tbody tr th:only-of-type {\n",
       "        vertical-align: middle;\n",
       "    }\n",
       "\n",
       "    .dataframe tbody tr th {\n",
       "        vertical-align: top;\n",
       "    }\n",
       "\n",
       "    .dataframe thead th {\n",
       "        text-align: right;\n",
       "    }\n",
       "</style>\n",
       "<table border=\"1\" class=\"dataframe\">\n",
       "  <thead>\n",
       "    <tr style=\"text-align: right;\">\n",
       "      <th></th>\n",
       "      <th>index</th>\n",
       "      <th>indices</th>\n",
       "      <th>indicator</th>\n",
       "      <th>agri-products</th>\n",
       "      <th>type-of-grower</th>\n",
       "      <th>type-of-indicator</th>\n",
       "      <th>Unit</th>\n",
       "      <th>Date</th>\n",
       "      <th>Value</th>\n",
       "    </tr>\n",
       "  </thead>\n",
       "  <tbody>\n",
       "    <tr>\n",
       "      <th>0</th>\n",
       "      <td>70</td>\n",
       "      <td>Indices total</td>\n",
       "      <td>Recorded Marketed Agricultural Production at C...</td>\n",
       "      <td>Maize</td>\n",
       "      <td>Total</td>\n",
       "      <td>Value</td>\n",
       "      <td>KSh Million</td>\n",
       "      <td>2018</td>\n",
       "      <td>9986.9</td>\n",
       "    </tr>\n",
       "    <tr>\n",
       "      <th>1</th>\n",
       "      <td>71</td>\n",
       "      <td>Indices total</td>\n",
       "      <td>Recorded Marketed Agricultural Production at C...</td>\n",
       "      <td>Maize</td>\n",
       "      <td>Total</td>\n",
       "      <td>Value</td>\n",
       "      <td>KSh Million</td>\n",
       "      <td>2019</td>\n",
       "      <td>10681.2</td>\n",
       "    </tr>\n",
       "    <tr>\n",
       "      <th>2</th>\n",
       "      <td>72</td>\n",
       "      <td>Indices total</td>\n",
       "      <td>Recorded Marketed Agricultural Production at C...</td>\n",
       "      <td>Maize</td>\n",
       "      <td>Total</td>\n",
       "      <td>Value</td>\n",
       "      <td>KSh Million</td>\n",
       "      <td>2020</td>\n",
       "      <td>8232.5</td>\n",
       "    </tr>\n",
       "    <tr>\n",
       "      <th>3</th>\n",
       "      <td>73</td>\n",
       "      <td>Indices total</td>\n",
       "      <td>Recorded Marketed Agricultural Production at C...</td>\n",
       "      <td>Maize</td>\n",
       "      <td>Total</td>\n",
       "      <td>Value</td>\n",
       "      <td>KSh Million</td>\n",
       "      <td>2021</td>\n",
       "      <td>6858.1</td>\n",
       "    </tr>\n",
       "    <tr>\n",
       "      <th>4</th>\n",
       "      <td>74</td>\n",
       "      <td>Indices total</td>\n",
       "      <td>Recorded Marketed Agricultural Production at C...</td>\n",
       "      <td>Maize</td>\n",
       "      <td>Total</td>\n",
       "      <td>Value</td>\n",
       "      <td>KSh Million</td>\n",
       "      <td>2022</td>\n",
       "      <td>5938.4</td>\n",
       "    </tr>\n",
       "  </tbody>\n",
       "</table>\n",
       "</div>"
      ],
      "text/plain": [
       "   index        indices                                          indicator  \\\n",
       "0     70  Indices total  Recorded Marketed Agricultural Production at C...   \n",
       "1     71  Indices total  Recorded Marketed Agricultural Production at C...   \n",
       "2     72  Indices total  Recorded Marketed Agricultural Production at C...   \n",
       "3     73  Indices total  Recorded Marketed Agricultural Production at C...   \n",
       "4     74  Indices total  Recorded Marketed Agricultural Production at C...   \n",
       "\n",
       "  agri-products type-of-grower type-of-indicator         Unit  Date    Value  \n",
       "0         Maize          Total             Value  KSh Million  2018   9986.9  \n",
       "1         Maize          Total             Value  KSh Million  2019  10681.2  \n",
       "2         Maize          Total             Value  KSh Million  2020   8232.5  \n",
       "3         Maize          Total             Value  KSh Million  2021   6858.1  \n",
       "4         Maize          Total             Value  KSh Million  2022   5938.4  "
      ]
     },
     "execution_count": 11,
     "metadata": {},
     "output_type": "execute_result"
    }
   ],
   "source": [
    "df.head()"
   ]
  },
  {
   "cell_type": "code",
   "execution_count": 12,
   "id": "1d9a20d7-8e9d-464f-aace-68a0ea17f056",
   "metadata": {},
   "outputs": [],
   "source": [
    "# drop the index column\n",
    "#rename the level_0 column as the index\n",
    "df.drop(columns = \"index\", inplace = True)\n"
   ]
  },
  {
   "cell_type": "markdown",
   "id": "58f91716-a402-4313-8a0c-b194c24ab14c",
   "metadata": {},
   "source": [
    "print first five rows"
   ]
  },
  {
   "cell_type": "code",
   "execution_count": 13,
   "id": "fe001e04-a5b1-487c-9f82-d6fb1d7ef1dd",
   "metadata": {},
   "outputs": [
    {
     "data": {
      "text/html": [
       "<div>\n",
       "<style scoped>\n",
       "    .dataframe tbody tr th:only-of-type {\n",
       "        vertical-align: middle;\n",
       "    }\n",
       "\n",
       "    .dataframe tbody tr th {\n",
       "        vertical-align: top;\n",
       "    }\n",
       "\n",
       "    .dataframe thead th {\n",
       "        text-align: right;\n",
       "    }\n",
       "</style>\n",
       "<table border=\"1\" class=\"dataframe\">\n",
       "  <thead>\n",
       "    <tr style=\"text-align: right;\">\n",
       "      <th></th>\n",
       "      <th>indices</th>\n",
       "      <th>indicator</th>\n",
       "      <th>agri-products</th>\n",
       "      <th>type-of-grower</th>\n",
       "      <th>type-of-indicator</th>\n",
       "      <th>Unit</th>\n",
       "      <th>Date</th>\n",
       "      <th>Value</th>\n",
       "    </tr>\n",
       "  </thead>\n",
       "  <tbody>\n",
       "    <tr>\n",
       "      <th>0</th>\n",
       "      <td>Indices total</td>\n",
       "      <td>Recorded Marketed Agricultural Production at C...</td>\n",
       "      <td>Maize</td>\n",
       "      <td>Total</td>\n",
       "      <td>Value</td>\n",
       "      <td>KSh Million</td>\n",
       "      <td>2018</td>\n",
       "      <td>9986.9</td>\n",
       "    </tr>\n",
       "    <tr>\n",
       "      <th>1</th>\n",
       "      <td>Indices total</td>\n",
       "      <td>Recorded Marketed Agricultural Production at C...</td>\n",
       "      <td>Maize</td>\n",
       "      <td>Total</td>\n",
       "      <td>Value</td>\n",
       "      <td>KSh Million</td>\n",
       "      <td>2019</td>\n",
       "      <td>10681.2</td>\n",
       "    </tr>\n",
       "    <tr>\n",
       "      <th>2</th>\n",
       "      <td>Indices total</td>\n",
       "      <td>Recorded Marketed Agricultural Production at C...</td>\n",
       "      <td>Maize</td>\n",
       "      <td>Total</td>\n",
       "      <td>Value</td>\n",
       "      <td>KSh Million</td>\n",
       "      <td>2020</td>\n",
       "      <td>8232.5</td>\n",
       "    </tr>\n",
       "    <tr>\n",
       "      <th>3</th>\n",
       "      <td>Indices total</td>\n",
       "      <td>Recorded Marketed Agricultural Production at C...</td>\n",
       "      <td>Maize</td>\n",
       "      <td>Total</td>\n",
       "      <td>Value</td>\n",
       "      <td>KSh Million</td>\n",
       "      <td>2021</td>\n",
       "      <td>6858.1</td>\n",
       "    </tr>\n",
       "    <tr>\n",
       "      <th>4</th>\n",
       "      <td>Indices total</td>\n",
       "      <td>Recorded Marketed Agricultural Production at C...</td>\n",
       "      <td>Maize</td>\n",
       "      <td>Total</td>\n",
       "      <td>Value</td>\n",
       "      <td>KSh Million</td>\n",
       "      <td>2022</td>\n",
       "      <td>5938.4</td>\n",
       "    </tr>\n",
       "  </tbody>\n",
       "</table>\n",
       "</div>"
      ],
      "text/plain": [
       "         indices                                          indicator  \\\n",
       "0  Indices total  Recorded Marketed Agricultural Production at C...   \n",
       "1  Indices total  Recorded Marketed Agricultural Production at C...   \n",
       "2  Indices total  Recorded Marketed Agricultural Production at C...   \n",
       "3  Indices total  Recorded Marketed Agricultural Production at C...   \n",
       "4  Indices total  Recorded Marketed Agricultural Production at C...   \n",
       "\n",
       "  agri-products type-of-grower type-of-indicator         Unit  Date    Value  \n",
       "0         Maize          Total             Value  KSh Million  2018   9986.9  \n",
       "1         Maize          Total             Value  KSh Million  2019  10681.2  \n",
       "2         Maize          Total             Value  KSh Million  2020   8232.5  \n",
       "3         Maize          Total             Value  KSh Million  2021   6858.1  \n",
       "4         Maize          Total             Value  KSh Million  2022   5938.4  "
      ]
     },
     "execution_count": 13,
     "metadata": {},
     "output_type": "execute_result"
    }
   ],
   "source": [
    "df.head()"
   ]
  },
  {
   "cell_type": "code",
   "execution_count": 14,
   "id": "4199a1a3-a6bd-4213-8758-5c3759b1f65b",
   "metadata": {},
   "outputs": [],
   "source": [
    "# rename the columns \n",
    "df = df.rename(columns = {\n",
    "    \"agri-products\" : \"crops\",\n",
    "    \"Unit\" : \"unit\",\n",
    "    \"Date\" : \"year\",\n",
    "    \"Value\" : \"value\"\n",
    "})"
   ]
  },
  {
   "cell_type": "code",
   "execution_count": 15,
   "id": "409a02cc-f931-46a1-809a-c2b7e66dd9ba",
   "metadata": {},
   "outputs": [
    {
     "data": {
      "text/plain": [
       "year\n",
       "2018      7\n",
       "2019      7\n",
       "2020      7\n",
       "2021      7\n",
       "2022      7\n",
       "2017      3\n",
       "2018H1    1\n",
       "2018H2    1\n",
       "2019H1    1\n",
       "2019H2    1\n",
       "2020H1    1\n",
       "2020H2    1\n",
       "2021H1    1\n",
       "2021H2    1\n",
       "2022H1    1\n",
       "2022H2    1\n",
       "Name: count, dtype: int64"
      ]
     },
     "execution_count": 15,
     "metadata": {},
     "output_type": "execute_result"
    }
   ],
   "source": [
    "df[\"year\"].value_counts()"
   ]
  },
  {
   "cell_type": "code",
   "execution_count": 17,
   "id": "402ec59a-9985-4029-930f-25ad65b7c5e2",
   "metadata": {},
   "outputs": [],
   "source": [
    "# fix the date/ year column\n",
    "# make sure all dates are strings\n",
    "df[\"year\"] = df[\"year\"].astype(str)\n",
    "\n",
    "# make a new column called \"half\"\n",
    "df[\"half\"] = df[\"year\"].apply(lambda x: x[-2] if \"H\" in x else \"FullYear\")\n",
    "\n",
    "# now clean the year and extract the year only\n",
    "df[\"year\"] = df[\"year\"].str[:4].astype(int)"
   ]
  },
  {
   "cell_type": "markdown",
   "id": "bd41b2f0-715e-4cff-b012-d2bcf3e8c913",
   "metadata": {},
   "source": [
    "## 6. Data Visualization and Analysis"
   ]
  },
  {
   "cell_type": "code",
   "execution_count": 18,
   "id": "56be51ef-90c3-446c-814e-3db2f260d6b0",
   "metadata": {},
   "outputs": [
    {
     "data": {
      "text/plain": [
       "indicator\n",
       "Sale of selected crops to marketing boards                     12\n",
       "Recorded Marketed Agricultural Production at Current Prices    10\n",
       "Average gross commodity to farmers                             10\n",
       "Average retail market prices of selected food crops            10\n",
       "Estimated production of selected agricultural commodities       6\n",
       "Name: count, dtype: int64"
      ]
     },
     "execution_count": 18,
     "metadata": {},
     "output_type": "execute_result"
    }
   ],
   "source": [
    "df[\"indicator\"].value_counts()"
   ]
  },
  {
   "cell_type": "markdown",
   "id": "013d9f95-dd76-4c94-96cc-1e943123d3ae",
   "metadata": {},
   "source": [
    "### _To find out and compare the total marketed value for maize and coffee(KSh Million)_\n",
    "Which crop brought in more money?\n",
    "\n",
    "We will look at the Total Marketed Value for both maize and coffee. Think of this as the total amount of money all the farmers and sellers made from these crops in a given year.\n",
    "\n",
    "By comparing these values, which are measured in millions of Kenyan Shillings (KSh Million), we can see which crop is a bigger business in terms of total income from sales.\n",
    "\n",
    "We will tackle this objectives by working with subsetted dataframes"
   ]
  },
  {
   "cell_type": "code",
   "execution_count": 19,
   "id": "89421b04-bf0b-48bf-a7d6-eaa02be126ce",
   "metadata": {},
   "outputs": [
    {
     "data": {
      "text/html": [
       "<div>\n",
       "<style scoped>\n",
       "    .dataframe tbody tr th:only-of-type {\n",
       "        vertical-align: middle;\n",
       "    }\n",
       "\n",
       "    .dataframe tbody tr th {\n",
       "        vertical-align: top;\n",
       "    }\n",
       "\n",
       "    .dataframe thead th {\n",
       "        text-align: right;\n",
       "    }\n",
       "</style>\n",
       "<table border=\"1\" class=\"dataframe\">\n",
       "  <thead>\n",
       "    <tr style=\"text-align: right;\">\n",
       "      <th></th>\n",
       "      <th>indices</th>\n",
       "      <th>indicator</th>\n",
       "      <th>crops</th>\n",
       "      <th>type-of-grower</th>\n",
       "      <th>type-of-indicator</th>\n",
       "      <th>unit</th>\n",
       "      <th>year</th>\n",
       "      <th>value</th>\n",
       "      <th>half</th>\n",
       "    </tr>\n",
       "  </thead>\n",
       "  <tbody>\n",
       "    <tr>\n",
       "      <th>0</th>\n",
       "      <td>Indices total</td>\n",
       "      <td>Recorded Marketed Agricultural Production at C...</td>\n",
       "      <td>Maize</td>\n",
       "      <td>Total</td>\n",
       "      <td>Value</td>\n",
       "      <td>KSh Million</td>\n",
       "      <td>2018</td>\n",
       "      <td>9986.9</td>\n",
       "      <td>FullYear</td>\n",
       "    </tr>\n",
       "    <tr>\n",
       "      <th>1</th>\n",
       "      <td>Indices total</td>\n",
       "      <td>Recorded Marketed Agricultural Production at C...</td>\n",
       "      <td>Maize</td>\n",
       "      <td>Total</td>\n",
       "      <td>Value</td>\n",
       "      <td>KSh Million</td>\n",
       "      <td>2019</td>\n",
       "      <td>10681.2</td>\n",
       "      <td>FullYear</td>\n",
       "    </tr>\n",
       "    <tr>\n",
       "      <th>2</th>\n",
       "      <td>Indices total</td>\n",
       "      <td>Recorded Marketed Agricultural Production at C...</td>\n",
       "      <td>Maize</td>\n",
       "      <td>Total</td>\n",
       "      <td>Value</td>\n",
       "      <td>KSh Million</td>\n",
       "      <td>2020</td>\n",
       "      <td>8232.5</td>\n",
       "      <td>FullYear</td>\n",
       "    </tr>\n",
       "    <tr>\n",
       "      <th>3</th>\n",
       "      <td>Indices total</td>\n",
       "      <td>Recorded Marketed Agricultural Production at C...</td>\n",
       "      <td>Maize</td>\n",
       "      <td>Total</td>\n",
       "      <td>Value</td>\n",
       "      <td>KSh Million</td>\n",
       "      <td>2021</td>\n",
       "      <td>6858.1</td>\n",
       "      <td>FullYear</td>\n",
       "    </tr>\n",
       "    <tr>\n",
       "      <th>4</th>\n",
       "      <td>Indices total</td>\n",
       "      <td>Recorded Marketed Agricultural Production at C...</td>\n",
       "      <td>Maize</td>\n",
       "      <td>Total</td>\n",
       "      <td>Value</td>\n",
       "      <td>KSh Million</td>\n",
       "      <td>2022</td>\n",
       "      <td>5938.4</td>\n",
       "      <td>FullYear</td>\n",
       "    </tr>\n",
       "  </tbody>\n",
       "</table>\n",
       "</div>"
      ],
      "text/plain": [
       "         indices                                          indicator  crops  \\\n",
       "0  Indices total  Recorded Marketed Agricultural Production at C...  Maize   \n",
       "1  Indices total  Recorded Marketed Agricultural Production at C...  Maize   \n",
       "2  Indices total  Recorded Marketed Agricultural Production at C...  Maize   \n",
       "3  Indices total  Recorded Marketed Agricultural Production at C...  Maize   \n",
       "4  Indices total  Recorded Marketed Agricultural Production at C...  Maize   \n",
       "\n",
       "  type-of-grower type-of-indicator         unit  year    value      half  \n",
       "0          Total             Value  KSh Million  2018   9986.9  FullYear  \n",
       "1          Total             Value  KSh Million  2019  10681.2  FullYear  \n",
       "2          Total             Value  KSh Million  2020   8232.5  FullYear  \n",
       "3          Total             Value  KSh Million  2021   6858.1  FullYear  \n",
       "4          Total             Value  KSh Million  2022   5938.4  FullYear  "
      ]
     },
     "execution_count": 19,
     "metadata": {},
     "output_type": "execute_result"
    }
   ],
   "source": [
    "# subset a dataframe and call it df_market\n",
    "df_market = df[df[\"indicator\"] == \"Recorded Marketed Agricultural Production at Current Prices\"]\n",
    "df_market.head()"
   ]
  },
  {
   "cell_type": "code",
   "execution_count": 20,
   "id": "f8b8614b-f101-455b-b0a7-a01c8aeeb5f6",
   "metadata": {},
   "outputs": [
    {
     "data": {
      "image/png": "[encoded data removed]",
      "text/plain": [
       "<Figure size 800x500 with 1 Axes>"
      ]
     },
     "metadata": {},
     "output_type": "display_data"
    }
   ],
   "source": [
    "plt.figure(figsize=(8,5))\n",
    "\n",
    "for crop in df_market['crops'].unique():\n",
    "    crop_data = df_market[df_market['crops'] == crop]\n",
    "    plt.plot(crop_data['year'], crop_data['value'], marker='o', label=crop)\n",
    "\n",
    "plt.title(\"Marketed Value of Maize vs Coffee (KSh Million)\")\n",
    "plt.xlabel(\"Year\")\n",
    "plt.ylabel(\"Value (KSh Million)\")\n",
    "plt.legend()\n",
    "plt.show()"
   ]
  },
  {
   "cell_type": "code",
   "execution_count": null,
   "id": "eb64fd00-05b5-430d-b808-8a8d54fa49c4",
   "metadata": {},
   "outputs": [],
   "source": [
    "\"\"\"\n",
    "Marketed Value Trends (Maize vs Coffee)\n",
    "\n",
    "The line chart shows the marketed value of maize and coffee in Kenya between 2018 and 2022.  \n",
    "- Coffee consistently generates a higher marketed value than maize.  \n",
    "- From 2020 onwards, coffee shows strong growth, especially in 2021 and 2022.  \n",
    "- Maize remains lower in value and shows a slight decline in recent years.  \n",
    "\n",
    "Conclusion:\n",
    "Coffee contributes more to Kenya’s marketed agricultural production compared to maize,\n",
    "highlighting its stronger role in agricultural revenue.\n",
    "\n",
    "\"\"\""
   ]
  },
  {
   "cell_type": "code",
   "execution_count": 21,
   "id": "2aa5c5f1-836e-445a-b7ef-690f06d1c493",
   "metadata": {},
   "outputs": [
    {
     "data": {
      "image/png": "[encoded data removed]",
      "text/plain": [
       "<Figure size 800x500 with 1 Axes>"
      ]
     },
     "metadata": {},
     "output_type": "display_data"
    }
   ],
   "source": [
    "df_pivot = df_market.pivot(index='year', columns='crops', values='value')\n",
    "\n",
    "df_pivot.plot(kind='bar', figsize=(8,5))\n",
    "plt.title(\"Marketed Value of Maize vs Coffee (KSh Million)\")\n",
    "plt.xlabel(\"Year\")\n",
    "plt.ylabel(\"Value (KSh Million)\")\n",
    "plt.show()"
   ]
  },
  {
   "cell_type": "code",
   "execution_count": null,
   "id": "1f2de6a5-f8e9-4b28-a0c7-82337e9345dd",
   "metadata": {},
   "outputs": [],
   "source": [
    "\"\"\"\n",
    "Marketed Value Comparison (Maize vs Coffee)\n",
    "\n",
    "The bar chart compares the marketed value of maize and coffee for each year.  \n",
    "- In every year, coffee’s marketed value is higher than maize’s.  \n",
    "- The gap widens noticeably in 2021 and 2022.  \n",
    "- This suggests that coffee became increasingly important for Kenya’s marketed agricultural output in recent years.  \n",
    "\n",
    "Conclusion:\n",
    "Coffee dominates maize in marketed value, reinforcing its higher market importance.\n",
    "\n",
    "\"\"\""
   ]
  },
  {
   "cell_type": "markdown",
   "id": "8177f3ae-cb9a-4644-85dc-d08c639fdbf1",
   "metadata": {},
   "source": [
    "### _To find out and compare the average farm-gate prices and retail market prices for maize and coffee, and evaluate profitability margins._\n",
    "In this part of our project, our main goal is to follow the money and understand the journey of maize and coffee from the farm to the market. We will focus on two key prices:\n",
    "\n",
    "- Farm-gate price: This is the price the farmer gets paid for their crop directly at their farm.\n",
    "\n",
    "- Retail market price: This is the final price that people pay for the crop in a shop or market.\n",
    "\n",
    "By comparing these two prices, we can figure out the profitability margin. This margin is the extra money made by everyone else in the process—the millers, transporters, and sellers. Finding this margin will help us see if the farmers are getting a fair price and where the most value is added in the business of selling maize and coffee."
   ]
  },
  {
   "cell_type": "code",
   "execution_count": 23,
   "id": "107be6f1-b9b6-4e16-8ec8-5d2b01f5521f",
   "metadata": {},
   "outputs": [
    {
     "data": {
      "image/png": "[encoded data removed]",
      "text/plain": [
       "<Figure size 800x500 with 1 Axes>"
      ]
     },
     "metadata": {},
     "output_type": "display_data"
    }
   ],
   "source": [
    "# subset\n",
    "df_obj2 = df[df['indicator'] == \"Average gross commodity to farmers\"]\n",
    "\n",
    "# plot\n",
    "\n",
    "plt.figure(figsize=(8,5))\n",
    "for crop in df_obj2['crops'].unique():\n",
    "    crop_data = df_obj2[df_obj2['crops'] == crop]\n",
    "    plt.plot(crop_data['year'], crop_data['value'], marker='o', label=crop)\n",
    "\n",
    "plt.title(\"Average Gross Commodity Prices (Maize vs Coffee)\")\n",
    "plt.xlabel(\"Year\")\n",
    "plt.ylabel(\"Price (KSh per 100kg)\")\n",
    "plt.legend()\n",
    "plt.show()"
   ]
  },
  {
   "cell_type": "code",
   "execution_count": null,
   "id": "2f2c29cf-e395-457f-af93-a12869ac799c",
   "metadata": {},
   "outputs": [],
   "source": [
    "\"\"\"\n",
    "Average Gross Commodity Prices\n",
    "\n",
    "The line chart shows farm-gate prices for maize and coffee between 2018 and 2022.  \n",
    "- Coffee fetches a much higher price per 100kg compared to maize.  \n",
    "- Coffee prices rise sharply after 2020, while maize remains relatively stable.  \n",
    "\n",
    "Conclusion: \n",
    "Coffee provides higher farmer-level returns, making it more profitable per unit sold than maize.\n",
    "\n",
    "\"\"\""
   ]
  },
  {
   "cell_type": "code",
   "execution_count": 27,
   "id": "bd0be00f-95ac-4994-a45a-f1dfc12ee5d3",
   "metadata": {},
   "outputs": [
    {
     "data": {
      "image/png": "[encoded data removed]",
      "text/plain": [
       "<Figure size 800x500 with 1 Axes>"
      ]
     },
     "metadata": {},
     "output_type": "display_data"
    }
   ],
   "source": [
    "df_pivot = df_obj2.pivot(index='year', columns='crops', values='value')\n",
    "\n",
    "df_pivot.plot(kind='bar', figsize=(8,5))\n",
    "plt.title(\"Average Gross Commodity Prices (Maize vs Coffee)\")\n",
    "plt.xlabel(\"Year\")\n",
    "plt.ylabel(\"Price (KSh per 100kg)\")\n",
    "plt.show()"
   ]
  },
  {
   "cell_type": "markdown",
   "id": "65007fac-da9d-424d-ac6b-8ca5d5a80165",
   "metadata": {},
   "source": [
    "### _To find out the relationship between total estimated production and sales to marketing boards for both crops, showing the share of production entering markets_\n",
    "In this step, we will compare two important numbers to understand how much of each crop makes it to the market.\n",
    "\n",
    "First, we have the total estimated production, which is the total amount of a crop that farmers grew in a given year. Think of this as the entire harvest.\n",
    "\n",
    "Second, we have the sales to marketing boards, which is the amount of that harvest that was officially sold to a specific, organized buyer.\n",
    "\n",
    "By comparing these two numbers, we can figure out what percentage of the total crop was sold through official channels. This helps us see how much of the harvest is entering the formal market and how much might be used by the farmers themselves or sold in other ways."
   ]
  },
  {
   "cell_type": "code",
   "execution_count": 28,
   "id": "3430282c-00fb-4a43-9a10-8f3238501d71",
   "metadata": {},
   "outputs": [
    {
     "data": {
      "image/png": "[encoded data removed]",
      "text/plain": [
       "<Figure size 800x500 with 1 Axes>"
      ]
     },
     "metadata": {},
     "output_type": "display_data"
    },
    {
     "data": {
      "image/png": "[encoded data removed]",
      "text/plain": [
       "<Figure size 800x500 with 1 Axes>"
      ]
     },
     "metadata": {},
     "output_type": "display_data"
    }
   ],
   "source": [
    "df_sales = df[df['indicator'] == \"Sale of selected crops to marketing boards\"]\n",
    "df_prod = df[df['indicator'] == \"Estimated production of selected agricultural commodities\"]\n",
    "\n",
    "# Sales volumes\n",
    "df_sales.pivot(index='year', columns='crops', values='value').plot(kind='bar', figsize=(8,5))\n",
    "plt.title(\"Sales Volumes to Marketing Boards (Maize vs Coffee)\")\n",
    "plt.ylabel(\"Volume (000 tonnes)\")\n",
    "plt.show()\n",
    "\n",
    "# Production volumes\n",
    "df_prod.pivot(index='year', columns='crops', values='value').plot(kind='bar', figsize=(8,5))\n",
    "plt.title(\"Estimated Production Volumes (Maize vs Coffee)\")\n",
    "plt.ylabel(\"Volume (Million Bags / 000 tonnes)\")\n",
    "plt.show()"
   ]
  },
  {
   "cell_type": "code",
   "execution_count": null,
   "id": "770d3db9-eea5-4298-945a-f8a51d3c291a",
   "metadata": {},
   "outputs": [],
   "source": [
    "\"\"\"\n",
    "Sales and Production Volumes\n",
    "\n",
    "- Sales to marketing boards:\n",
    "          Maize is sold in larger volumes compared to coffee, though sales have declined in recent years.  \n",
    "- Production estimates:\n",
    "          Maize is produced in much larger quantities than coffee, reflecting its role as a staple food.  \n",
    "\n",
    "Conclusion:\n",
    "While coffee dominates in marketed value and prices, maize dominates in sheer production and sales volumes,\n",
    "highlighting its importance for food security.\n",
    "\n",
    "\"\"\""
   ]
  },
  {
   "cell_type": "markdown",
   "id": "a4407eed-4af4-4560-9d0b-dba0f34400a7",
   "metadata": {},
   "source": [
    "### _To find out which crop demonstrates stronger profitability and market resilience based on combined indicators_\n",
    "This is the final and most important goal of our project. It's where we bring all the different pieces of our analysis together to form a big-picture conclusion.\n",
    "\n",
    "To figure out which crop has stronger profitability, we will combine the numbers we've already found. We'll look at the total money each crop made, and the prices that farmers and sellers got, to see which one creates more wealth overall.\n",
    "\n",
    "To find out about market resilience, we will look at how well each crop handles challenges. By comparing the total amount of each crop that was harvested with the amount that was actually sold, we can see which crop has a stronger and more stable business from the farm to the market.\n",
    "\n",
    "By putting all these insights together, we will have a strong, data-backed answer to our main research question."
   ]
  },
  {
   "cell_type": "code",
   "execution_count": 29,
   "id": "c9ac4ad9-2a15-4e46-8e97-b1255b51bcf4",
   "metadata": {},
   "outputs": [
    {
     "data": {
      "image/png": "[encoded data removed]",
      "text/plain": [
       "<Figure size 800x500 with 1 Axes>"
      ]
     },
     "metadata": {},
     "output_type": "display_data"
    }
   ],
   "source": [
    "df_obj4 = df[df['indicator'] == \"Average retail market prices of selected food crops\"]\n",
    "\n",
    "plt.figure(figsize=(8,5))\n",
    "for crop in df_obj4['crops'].unique():\n",
    "    crop_data = df_obj4[df_obj4['crops'] == crop]\n",
    "    plt.plot(crop_data['year'], crop_data['value'], marker='o', label=crop)\n",
    "\n",
    "plt.title(\"Average Retail Prices (Maize vs Coffee)\")\n",
    "plt.xlabel(\"Year / Half\")\n",
    "plt.ylabel(\"Retail Price (KSh per kg)\")\n",
    "plt.legend()\n",
    "plt.show()"
   ]
  },
  {
   "cell_type": "code",
   "execution_count": null,
   "id": "303a0dd7-ff46-4de9-baa3-9ad2bfe63e07",
   "metadata": {},
   "outputs": [],
   "source": [
    "\"\"\"\n",
    "Average Retail Market Prices\n",
    "\n",
    "The chart compares consumer retail prices of maize and coffee.  \n",
    "- Coffee consistently sells at a far higher retail price than maize.  \n",
    "- Retail maize prices are lower and more stable, showing only gradual increases.  \n",
    "- Coffee shows a sharp price rise after 2020.  \n",
    "\n",
    "Conclusion:\n",
    "Coffee dominates retail prices, making it a more valuable crop at consumer markets compared to maize.\n",
    "\n",
    "\"\"\""
   ]
  },
  {
   "cell_type": "markdown",
   "id": "689a2dcc-4220-40e6-b1f8-40097cf555c1",
   "metadata": {},
   "source": [
    "## Final Summary of Analysis – Coffee vs Maize in Kenya\n",
    "\n",
    "This notebook set out to compare **coffee** and **maize** in terms of marketed value, farmer returns, retail prices, and production volumes using agricultural data from 2018–2022. The CRISP-DM framework guided the process from data preparation to analysis.\n",
    "\n",
    "\n",
    "## Overall Conclusion\n",
    "- **Coffee** is Kenya’s stronger performer in terms of revenue and profitability, both for farmers and at retail markets.  \n",
    "- **Maize** remains vital for national food security due to its large-scale production and consumption, but its economic value per unit is much lower.  \n",
    "- This duality highlights Kenya’s agricultural balance: coffee as a cash crop, maize as a staple crop.\n",
    "\n"
   ]
  },
  {
   "cell_type": "markdown",
   "id": "697ad8e1-ba4e-4c61-8d17-64e068ab0bf8",
   "metadata": {},
   "source": [
    "## Recommendations\n",
    "1. **For Policy Makers:**  \n",
    "   - Support maize productivity improvements to stabilize supply and reduce market declines.  \n",
    "   - Strengthen coffee export strategies to maintain and grow its revenue contribution.  \n",
    "\n",
    "2. **For Farmers:**  \n",
    "   - Coffee farmers can benefit from the rising price trends, but diversification with maize ensures food security.  \n",
    "   - Maize farmers may need support with modern farming techniques to improve yields without increasing costs.   \n",
    "\n",
    "3. **For Future Work:**  \n",
    "   - Extend this analysis to other crops (tea, sugarcane) for a broader agricultural market view.  \n",
    "   - Include external factors (climate data, export demand, government policies) to enrich insights."
   ]
  }
 ],
 "metadata": {
  "kernelspec": {
   "display_name": "Python 3 (ipykernel)",
   "language": "python",
   "name": "python3"
  },
  "language_info": {
   "codemirror_mode": {
    "name": "ipython",
    "version": 3
   },
   "file_extension": ".py",
   "mimetype": "text/x-python",
   "name": "python",
   "nbconvert_exporter": "python",
   "pygments_lexer": "ipython3",
   "version": "3.13.5"
  }
 },
 "nbformat": 4,
 "nbformat_minor": 5
}
